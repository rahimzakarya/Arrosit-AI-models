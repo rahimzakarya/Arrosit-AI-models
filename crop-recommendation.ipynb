{
 "cells": [
  {
   "attachments": {},
   "cell_type": "markdown",
   "id": "cfc820ac",
   "metadata": {
    "papermill": {
     "duration": 0.005416,
     "end_time": "2023-02-11T16:12:25.723123",
     "exception": false,
     "start_time": "2023-02-11T16:12:25.717707",
     "status": "completed"
    },
    "tags": []
   },
   "source": []
  },
  {
   "cell_type": "markdown",
   "id": "4ef5992f",
   "metadata": {
    "papermill": {
     "duration": 0.00365,
     "end_time": "2023-02-11T16:12:25.731092",
     "exception": false,
     "start_time": "2023-02-11T16:12:25.727442",
     "status": "completed"
    },
    "tags": []
   },
   "source": []
  },
  {
   "cell_type": "markdown",
   "id": "3e752bf3",
   "metadata": {
    "papermill": {
     "duration": 0.003578,
     "end_time": "2023-02-11T16:12:25.738410",
     "exception": false,
     "start_time": "2023-02-11T16:12:25.734832",
     "status": "completed"
    },
    "tags": []
   },
   "source": [
    " We have the following data fields in our dataset:\n",
    "\n",
    "* N - ratio of Nitrogen content in soil\n",
    "* P - ratio of Phosphorous content in soil\n",
    "* K - ratio of Potassium content in soil\n",
    "* temperature - temperature in degree Celsius\n",
    "* humidity - relative humidity in %\n",
    "* ph - ph value of the soil\n",
    "* rainfall - rainfall in mm\n"
   ]
  },
  {
   "cell_type": "markdown",
   "id": "354e7d77",
   "metadata": {
    "papermill": {
     "duration": 0.003721,
     "end_time": "2023-02-11T16:12:25.746078",
     "exception": false,
     "start_time": "2023-02-11T16:12:25.742357",
     "status": "completed"
    },
    "tags": []
   },
   "source": [
    "Let's begin with importing the required libraries."
   ]
  },
  {
   "cell_type": "code",
   "execution_count": 2,
   "id": "9173df3a",
   "metadata": {
    "execution": {
     "iopub.execute_input": "2023-02-11T16:12:25.756945Z",
     "iopub.status.busy": "2023-02-11T16:12:25.755926Z",
     "iopub.status.idle": "2023-02-11T16:12:32.399150Z",
     "shell.execute_reply": "2023-02-11T16:12:32.397847Z"
    },
    "papermill": {
     "duration": 6.651965,
     "end_time": "2023-02-11T16:12:32.401945",
     "exception": false,
     "start_time": "2023-02-11T16:12:25.749980",
     "status": "completed"
    },
    "tags": []
   },
   "outputs": [],
   "source": [
    "import numpy as np\n",
    "import pandas as pd\n",
    "import matplotlib.pyplot as plt\n",
    "from keras.models import Sequential\n",
    "from keras.layers import Dense\n",
    "from sklearn.preprocessing import StandardScaler\n",
    "from sklearn.preprocessing import OneHotEncoder\n",
    "from sklearn.preprocessing import LabelEncoder\n",
    "from keras.layers import Dropout\n",
    "import matplotlib.pyplot as plt\n"
   ]
  },
  {
   "cell_type": "markdown",
   "id": "95fd47b7",
   "metadata": {
    "papermill": {
     "duration": 0.003804,
     "end_time": "2023-02-11T16:12:32.410137",
     "exception": false,
     "start_time": "2023-02-11T16:12:32.406333",
     "status": "completed"
    },
    "tags": []
   },
   "source": [
    "We read the dataset and convert it into a dataframe."
   ]
  },
  {
   "cell_type": "code",
   "execution_count": 3,
   "id": "73c8f0c5",
   "metadata": {
    "execution": {
     "iopub.execute_input": "2023-02-11T16:12:32.421032Z",
     "iopub.status.busy": "2023-02-11T16:12:32.419335Z",
     "iopub.status.idle": "2023-02-11T16:12:32.459570Z",
     "shell.execute_reply": "2023-02-11T16:12:32.458498Z"
    },
    "papermill": {
     "duration": 0.049594,
     "end_time": "2023-02-11T16:12:32.463774",
     "exception": false,
     "start_time": "2023-02-11T16:12:32.414180",
     "status": "completed"
    },
    "tags": []
   },
   "outputs": [
    {
     "name": "stdout",
     "output_type": "stream",
     "text": [
      "    N   P   K  temperature   humidity        ph    rainfall label\n",
      "0  90  42  43    20.879744  82.002744  6.502985  202.935536  rice\n",
      "1  85  58  41    21.770462  80.319644  7.038096  226.655537  rice\n",
      "2  60  55  44    23.004459  82.320763  7.840207  263.964248  rice\n",
      "3  74  35  40    26.491096  80.158363  6.980401  242.864034  rice\n",
      "4  78  42  42    20.130175  81.604873  7.628473  262.717340  rice\n"
     ]
    }
   ],
   "source": [
    "path_train = r\"data\\Crop_recommendation.csv\"\n",
    "train_data = pd.DataFrame(pd.read_csv(path_train))\n",
    "print(train_data.head())"
   ]
  },
  {
   "cell_type": "markdown",
   "id": "81858aa0",
   "metadata": {
    "papermill": {
     "duration": 0.00407,
     "end_time": "2023-02-11T16:12:32.472438",
     "exception": false,
     "start_time": "2023-02-11T16:12:32.468368",
     "status": "completed"
    },
    "tags": []
   },
   "source": [
    "Let's see how many possible categories exist in the label column(the column we are going to predict)"
   ]
  },
  {
   "cell_type": "code",
   "execution_count": 4,
   "id": "7964c201",
   "metadata": {
    "execution": {
     "iopub.execute_input": "2023-02-11T16:12:32.482788Z",
     "iopub.status.busy": "2023-02-11T16:12:32.482380Z",
     "iopub.status.idle": "2023-02-11T16:12:32.494726Z",
     "shell.execute_reply": "2023-02-11T16:12:32.493504Z"
    },
    "papermill": {
     "duration": 0.020172,
     "end_time": "2023-02-11T16:12:32.496936",
     "exception": false,
     "start_time": "2023-02-11T16:12:32.476764",
     "status": "completed"
    },
    "tags": []
   },
   "outputs": [
    {
     "name": "stdout",
     "output_type": "stream",
     "text": [
      "['rice' 'maize' 'chickpea' 'kidneybeans' 'pigeonpeas' 'mothbeans'\n",
      " 'mungbean' 'blackgram' 'lentil' 'pomegranate' 'banana' 'mango' 'grapes'\n",
      " 'watermelon' 'muskmelon' 'apple' 'orange' 'papaya' 'coconut' 'cotton'\n",
      " 'jute' 'coffee']\n"
     ]
    }
   ],
   "source": [
    "print(train_data['label'].unique())\n",
    "classes = train_data['label'].unique()"
   ]
  },
  {
   "cell_type": "markdown",
   "id": "531cf112",
   "metadata": {
    "papermill": {
     "duration": 0.004033,
     "end_time": "2023-02-11T16:12:32.505350",
     "exception": false,
     "start_time": "2023-02-11T16:12:32.501317",
     "status": "completed"
    },
    "tags": []
   },
   "source": [
    "Next, we will prepare our data for trainaing the neural network(we need X_train and Y_train)"
   ]
  },
  {
   "cell_type": "code",
   "execution_count": 5,
   "id": "703f2648",
   "metadata": {
    "execution": {
     "iopub.execute_input": "2023-02-11T16:12:32.516189Z",
     "iopub.status.busy": "2023-02-11T16:12:32.515088Z",
     "iopub.status.idle": "2023-02-11T16:12:32.529413Z",
     "shell.execute_reply": "2023-02-11T16:12:32.528086Z"
    },
    "papermill": {
     "duration": 0.022445,
     "end_time": "2023-02-11T16:12:32.532078",
     "exception": false,
     "start_time": "2023-02-11T16:12:32.509633",
     "status": "completed"
    },
    "tags": []
   },
   "outputs": [
    {
     "name": "stdout",
     "output_type": "stream",
     "text": [
      "    N   P   K  temperature   humidity        ph    rainfall\n",
      "0  90  42  43    20.879744  82.002744  6.502985  202.935536\n",
      "1  85  58  41    21.770462  80.319644  7.038096  226.655537\n",
      "2  60  55  44    23.004459  82.320763  7.840207  263.964248\n",
      "3  74  35  40    26.491096  80.158363  6.980401  242.864034\n",
      "4  78  42  42    20.130175  81.604873  7.628473  262.717340\n",
      "\n",
      "0    rice\n",
      "1    rice\n",
      "2    rice\n",
      "3    rice\n",
      "4    rice\n",
      "Name: label, dtype: object\n"
     ]
    }
   ],
   "source": [
    "Y_train = train_data['label']\n",
    "X_train = train_data.drop('label', axis = 1)\n",
    "print(X_train.head())\n",
    "print(\"\")\n",
    "print(Y_train.head())"
   ]
  },
  {
   "cell_type": "markdown",
   "id": "266b8d13",
   "metadata": {
    "papermill": {
     "duration": 0.004138,
     "end_time": "2023-02-11T16:12:32.540768",
     "exception": false,
     "start_time": "2023-02-11T16:12:32.536630",
     "status": "completed"
    },
    "tags": []
   },
   "source": [
    "Perfect, now we need to encode all categorical variables we have (Y_train). I made use of OneHotEncoder.Observe that instead of the name of a crop, now we have a hot vector with 22 columns,each column corresponding to a crop type."
   ]
  },
  {
   "cell_type": "code",
   "execution_count": 6,
   "id": "dc5e5f9f",
   "metadata": {
    "execution": {
     "iopub.execute_input": "2023-02-11T16:12:32.551480Z",
     "iopub.status.busy": "2023-02-11T16:12:32.551061Z",
     "iopub.status.idle": "2023-02-11T16:12:32.577891Z",
     "shell.execute_reply": "2023-02-11T16:12:32.575992Z"
    },
    "papermill": {
     "duration": 0.035458,
     "end_time": "2023-02-11T16:12:32.580634",
     "exception": false,
     "start_time": "2023-02-11T16:12:32.545176",
     "status": "completed"
    },
    "tags": []
   },
   "outputs": [
    {
     "name": "stdout",
     "output_type": "stream",
     "text": [
      "       0    1    2    3    4    5    6    7    8    9   ...   12   13   14  \\\n",
      "0     0.0  0.0  0.0  0.0  0.0  0.0  0.0  0.0  0.0  0.0  ...  0.0  0.0  0.0   \n",
      "1     0.0  0.0  0.0  0.0  0.0  0.0  0.0  0.0  0.0  0.0  ...  0.0  0.0  0.0   \n",
      "2     0.0  0.0  0.0  0.0  0.0  0.0  0.0  0.0  0.0  0.0  ...  0.0  0.0  0.0   \n",
      "3     0.0  0.0  0.0  0.0  0.0  0.0  0.0  0.0  0.0  0.0  ...  0.0  0.0  0.0   \n",
      "4     0.0  0.0  0.0  0.0  0.0  0.0  0.0  0.0  0.0  0.0  ...  0.0  0.0  0.0   \n",
      "...   ...  ...  ...  ...  ...  ...  ...  ...  ...  ...  ...  ...  ...  ...   \n",
      "2195  0.0  0.0  0.0  0.0  0.0  1.0  0.0  0.0  0.0  0.0  ...  0.0  0.0  0.0   \n",
      "2196  0.0  0.0  0.0  0.0  0.0  1.0  0.0  0.0  0.0  0.0  ...  0.0  0.0  0.0   \n",
      "2197  0.0  0.0  0.0  0.0  0.0  1.0  0.0  0.0  0.0  0.0  ...  0.0  0.0  0.0   \n",
      "2198  0.0  0.0  0.0  0.0  0.0  1.0  0.0  0.0  0.0  0.0  ...  0.0  0.0  0.0   \n",
      "2199  0.0  0.0  0.0  0.0  0.0  1.0  0.0  0.0  0.0  0.0  ...  0.0  0.0  0.0   \n",
      "\n",
      "       15   16   17   18   19   20   21  \n",
      "0     0.0  0.0  0.0  0.0  0.0  1.0  0.0  \n",
      "1     0.0  0.0  0.0  0.0  0.0  1.0  0.0  \n",
      "2     0.0  0.0  0.0  0.0  0.0  1.0  0.0  \n",
      "3     0.0  0.0  0.0  0.0  0.0  1.0  0.0  \n",
      "4     0.0  0.0  0.0  0.0  0.0  1.0  0.0  \n",
      "...   ...  ...  ...  ...  ...  ...  ...  \n",
      "2195  0.0  0.0  0.0  0.0  0.0  0.0  0.0  \n",
      "2196  0.0  0.0  0.0  0.0  0.0  0.0  0.0  \n",
      "2197  0.0  0.0  0.0  0.0  0.0  0.0  0.0  \n",
      "2198  0.0  0.0  0.0  0.0  0.0  0.0  0.0  \n",
      "2199  0.0  0.0  0.0  0.0  0.0  0.0  0.0  \n",
      "\n",
      "[2200 rows x 22 columns]\n"
     ]
    }
   ],
   "source": [
    "Encoder = OneHotEncoder(handle_unknown='ignore')\n",
    "\n",
    "Y_train = pd.DataFrame(Encoder.fit_transform(train_data[['label']]).toarray())\n",
    "\n",
    "print(Y_train)"
   ]
  },
  {
   "cell_type": "markdown",
   "id": "445d2efc",
   "metadata": {
    "papermill": {
     "duration": 0.004499,
     "end_time": "2023-02-11T16:12:32.589913",
     "exception": false,
     "start_time": "2023-02-11T16:12:32.585414",
     "status": "completed"
    },
    "tags": []
   },
   "source": [
    "Another important part is scaling our data before inputing it in our nn."
   ]
  },
  {
   "cell_type": "code",
   "execution_count": 7,
   "id": "62640b87",
   "metadata": {
    "execution": {
     "iopub.execute_input": "2023-02-11T16:12:32.600981Z",
     "iopub.status.busy": "2023-02-11T16:12:32.600530Z",
     "iopub.status.idle": "2023-02-11T16:12:32.613041Z",
     "shell.execute_reply": "2023-02-11T16:12:32.611550Z"
    },
    "papermill": {
     "duration": 0.021018,
     "end_time": "2023-02-11T16:12:32.615652",
     "exception": false,
     "start_time": "2023-02-11T16:12:32.594634",
     "status": "completed"
    },
    "tags": []
   },
   "outputs": [
    {
     "name": "stdout",
     "output_type": "stream",
     "text": [
      "[[ 1.0687974  -0.34455075 -0.1016875  ...  0.47266646  0.04330173\n",
      "   1.8103605 ]\n",
      " [ 0.93332887  0.14061552 -0.14118477 ...  0.39705125  0.73487256\n",
      "   2.24205791]\n",
      " [ 0.25598625  0.04964684 -0.08193887 ...  0.48695381  1.77151047\n",
      "   2.92106603]\n",
      " ...\n",
      " [ 1.82742114 -0.61745677 -0.35841972 ... -0.19123516 -0.13812031\n",
      "   1.27141766]\n",
      " [ 1.80032743 -0.64777967 -0.27942519 ... -0.86951801  0.37390383\n",
      "   0.43154519]\n",
      " [ 1.44810927 -1.07230015 -0.35841972 ... -0.49802006  0.40109573\n",
      "   0.68200518]]\n"
     ]
    }
   ],
   "source": [
    "sc = StandardScaler()\n",
    "train_scaled = sc.fit_transform(X_train)\n",
    "print(train_scaled)\n",
    "data = train_scaled"
   ]
  },
  {
   "cell_type": "markdown",
   "id": "d252927c",
   "metadata": {
    "papermill": {
     "duration": 0.004438,
     "end_time": "2023-02-11T16:12:32.624790",
     "exception": false,
     "start_time": "2023-02-11T16:12:32.620352",
     "status": "completed"
    },
    "tags": []
   },
   "source": [
    "We create the neural network model and begin training."
   ]
  },
  {
   "cell_type": "code",
   "execution_count": 8,
   "id": "88c0ed5b",
   "metadata": {
    "execution": {
     "iopub.execute_input": "2023-02-11T16:12:32.636039Z",
     "iopub.status.busy": "2023-02-11T16:12:32.635132Z",
     "iopub.status.idle": "2023-02-11T16:13:14.432649Z",
     "shell.execute_reply": "2023-02-11T16:13:14.431453Z"
    },
    "papermill": {
     "duration": 41.805838,
     "end_time": "2023-02-11T16:13:14.435229",
     "exception": false,
     "start_time": "2023-02-11T16:12:32.629391",
     "status": "completed"
    },
    "tags": []
   },
   "outputs": [
    {
     "name": "stdout",
     "output_type": "stream",
     "text": [
      "Epoch 1/100\n",
      "69/69 [==============================] - 3s 4ms/step - loss: 1.5510 - accuracy: 0.5305\n",
      "Epoch 2/100\n",
      "69/69 [==============================] - 0s 4ms/step - loss: 0.5878 - accuracy: 0.8082\n",
      "Epoch 3/100\n",
      "69/69 [==============================] - 0s 4ms/step - loss: 0.3549 - accuracy: 0.8936\n",
      "Epoch 4/100\n",
      "69/69 [==============================] - 0s 5ms/step - loss: 0.2769 - accuracy: 0.9091\n",
      "Epoch 5/100\n",
      "69/69 [==============================] - 0s 4ms/step - loss: 0.2061 - accuracy: 0.9377\n",
      "Epoch 6/100\n",
      "69/69 [==============================] - 0s 3ms/step - loss: 0.1924 - accuracy: 0.9341\n",
      "Epoch 7/100\n",
      "69/69 [==============================] - 0s 5ms/step - loss: 0.1851 - accuracy: 0.9345\n",
      "Epoch 8/100\n",
      "69/69 [==============================] - 0s 4ms/step - loss: 0.1905 - accuracy: 0.9309\n",
      "Epoch 9/100\n",
      "69/69 [==============================] - 0s 4ms/step - loss: 0.1633 - accuracy: 0.9409\n",
      "Epoch 10/100\n",
      "69/69 [==============================] - 0s 6ms/step - loss: 0.1599 - accuracy: 0.9432\n",
      "Epoch 11/100\n",
      "69/69 [==============================] - 0s 5ms/step - loss: 0.1640 - accuracy: 0.9373\n",
      "Epoch 12/100\n",
      "69/69 [==============================] - 0s 4ms/step - loss: 0.1601 - accuracy: 0.9423\n",
      "Epoch 13/100\n",
      "69/69 [==============================] - 0s 5ms/step - loss: 0.1562 - accuracy: 0.9405\n",
      "Epoch 14/100\n",
      "69/69 [==============================] - 0s 4ms/step - loss: 0.1521 - accuracy: 0.9436\n",
      "Epoch 15/100\n",
      "69/69 [==============================] - 0s 4ms/step - loss: 0.1625 - accuracy: 0.9445\n",
      "Epoch 16/100\n",
      "69/69 [==============================] - 0s 5ms/step - loss: 0.1224 - accuracy: 0.9509\n",
      "Epoch 17/100\n",
      "69/69 [==============================] - 0s 4ms/step - loss: 0.1247 - accuracy: 0.9545\n",
      "Epoch 18/100\n",
      "69/69 [==============================] - 0s 4ms/step - loss: 0.1434 - accuracy: 0.9486\n",
      "Epoch 19/100\n",
      "69/69 [==============================] - 0s 5ms/step - loss: 0.1283 - accuracy: 0.9482\n",
      "Epoch 20/100\n",
      "69/69 [==============================] - 0s 4ms/step - loss: 0.1311 - accuracy: 0.9536\n",
      "Epoch 21/100\n",
      "69/69 [==============================] - 0s 4ms/step - loss: 0.1516 - accuracy: 0.9395\n",
      "Epoch 22/100\n",
      "69/69 [==============================] - 0s 5ms/step - loss: 0.1166 - accuracy: 0.9550\n",
      "Epoch 23/100\n",
      "69/69 [==============================] - 0s 4ms/step - loss: 0.1371 - accuracy: 0.9505\n",
      "Epoch 24/100\n",
      "69/69 [==============================] - 0s 4ms/step - loss: 0.1533 - accuracy: 0.9368\n",
      "Epoch 25/100\n",
      "69/69 [==============================] - 0s 5ms/step - loss: 0.1240 - accuracy: 0.9536\n",
      "Epoch 26/100\n",
      "69/69 [==============================] - 0s 5ms/step - loss: 0.1283 - accuracy: 0.9509\n",
      "Epoch 27/100\n",
      "69/69 [==============================] - 0s 5ms/step - loss: 0.1185 - accuracy: 0.9545\n",
      "Epoch 28/100\n",
      "69/69 [==============================] - 0s 6ms/step - loss: 0.1195 - accuracy: 0.9486\n",
      "Epoch 29/100\n",
      "69/69 [==============================] - 0s 5ms/step - loss: 0.1212 - accuracy: 0.9527\n",
      "Epoch 30/100\n",
      "69/69 [==============================] - 0s 5ms/step - loss: 0.1197 - accuracy: 0.9550\n",
      "Epoch 31/100\n",
      "69/69 [==============================] - 0s 4ms/step - loss: 0.1325 - accuracy: 0.9514\n",
      "Epoch 32/100\n",
      "69/69 [==============================] - 0s 4ms/step - loss: 0.1197 - accuracy: 0.9545\n",
      "Epoch 33/100\n",
      "69/69 [==============================] - 0s 4ms/step - loss: 0.1652 - accuracy: 0.9377\n",
      "Epoch 34/100\n",
      "69/69 [==============================] - 0s 5ms/step - loss: 0.1397 - accuracy: 0.9473\n",
      "Epoch 35/100\n",
      "69/69 [==============================] - 0s 4ms/step - loss: 0.1299 - accuracy: 0.9473\n",
      "Epoch 36/100\n",
      "69/69 [==============================] - 0s 4ms/step - loss: 0.1402 - accuracy: 0.9450\n",
      "Epoch 37/100\n",
      "69/69 [==============================] - 0s 5ms/step - loss: 0.1312 - accuracy: 0.9495\n",
      "Epoch 38/100\n",
      "69/69 [==============================] - 0s 4ms/step - loss: 0.1269 - accuracy: 0.9527\n",
      "Epoch 39/100\n",
      "69/69 [==============================] - 0s 4ms/step - loss: 0.1419 - accuracy: 0.9409\n",
      "Epoch 40/100\n",
      "69/69 [==============================] - 0s 5ms/step - loss: 0.1386 - accuracy: 0.9468\n",
      "Epoch 41/100\n",
      "69/69 [==============================] - 0s 4ms/step - loss: 0.1122 - accuracy: 0.9555\n",
      "Epoch 42/100\n",
      "69/69 [==============================] - 0s 3ms/step - loss: 0.1129 - accuracy: 0.9545\n",
      "Epoch 43/100\n",
      "69/69 [==============================] - 0s 3ms/step - loss: 0.1276 - accuracy: 0.9473\n",
      "Epoch 44/100\n",
      "69/69 [==============================] - 0s 4ms/step - loss: 0.1103 - accuracy: 0.9564\n",
      "Epoch 45/100\n",
      "69/69 [==============================] - 0s 5ms/step - loss: 0.1093 - accuracy: 0.9586\n",
      "Epoch 46/100\n",
      "69/69 [==============================] - 0s 5ms/step - loss: 0.1142 - accuracy: 0.9545\n",
      "Epoch 47/100\n",
      "69/69 [==============================] - 0s 6ms/step - loss: 0.1073 - accuracy: 0.9536\n",
      "Epoch 48/100\n",
      "69/69 [==============================] - 0s 5ms/step - loss: 0.0989 - accuracy: 0.9627\n",
      "Epoch 49/100\n",
      "69/69 [==============================] - 0s 5ms/step - loss: 0.1079 - accuracy: 0.9600\n",
      "Epoch 50/100\n",
      "69/69 [==============================] - 0s 6ms/step - loss: 0.1126 - accuracy: 0.9541\n",
      "Epoch 51/100\n",
      "69/69 [==============================] - 1s 8ms/step - loss: 0.1035 - accuracy: 0.9618\n",
      "Epoch 52/100\n",
      "69/69 [==============================] - 0s 6ms/step - loss: 0.1242 - accuracy: 0.9527\n",
      "Epoch 53/100\n",
      "69/69 [==============================] - 0s 5ms/step - loss: 0.1262 - accuracy: 0.9491\n",
      "Epoch 54/100\n",
      "69/69 [==============================] - 0s 5ms/step - loss: 0.1030 - accuracy: 0.9591\n",
      "Epoch 55/100\n",
      "69/69 [==============================] - 0s 5ms/step - loss: 0.1320 - accuracy: 0.9523\n",
      "Epoch 56/100\n",
      "69/69 [==============================] - 0s 4ms/step - loss: 0.1163 - accuracy: 0.9541\n",
      "Epoch 57/100\n",
      "69/69 [==============================] - 0s 4ms/step - loss: 0.1078 - accuracy: 0.9591\n",
      "Epoch 58/100\n",
      "69/69 [==============================] - 0s 5ms/step - loss: 0.1094 - accuracy: 0.9545\n",
      "Epoch 59/100\n",
      "69/69 [==============================] - 1s 8ms/step - loss: 0.1073 - accuracy: 0.9595\n",
      "Epoch 60/100\n",
      "69/69 [==============================] - 0s 5ms/step - loss: 0.0982 - accuracy: 0.9645\n",
      "Epoch 61/100\n",
      "69/69 [==============================] - 0s 6ms/step - loss: 0.1151 - accuracy: 0.9550\n",
      "Epoch 62/100\n",
      "69/69 [==============================] - 0s 4ms/step - loss: 0.1048 - accuracy: 0.9577\n",
      "Epoch 63/100\n",
      "69/69 [==============================] - 0s 5ms/step - loss: 0.1075 - accuracy: 0.9614\n",
      "Epoch 64/100\n",
      "69/69 [==============================] - 0s 5ms/step - loss: 0.1232 - accuracy: 0.9514\n",
      "Epoch 65/100\n",
      "69/69 [==============================] - 0s 4ms/step - loss: 0.1250 - accuracy: 0.9518\n",
      "Epoch 66/100\n",
      "69/69 [==============================] - 0s 4ms/step - loss: 0.1291 - accuracy: 0.9500\n",
      "Epoch 67/100\n",
      "69/69 [==============================] - 0s 3ms/step - loss: 0.1253 - accuracy: 0.9559\n",
      "Epoch 68/100\n",
      "69/69 [==============================] - 0s 4ms/step - loss: 0.1090 - accuracy: 0.9523\n",
      "Epoch 69/100\n",
      "69/69 [==============================] - 0s 5ms/step - loss: 0.1194 - accuracy: 0.9555\n",
      "Epoch 70/100\n",
      "69/69 [==============================] - 0s 5ms/step - loss: 0.2038 - accuracy: 0.9386\n",
      "Epoch 71/100\n",
      "69/69 [==============================] - 0s 4ms/step - loss: 0.1236 - accuracy: 0.9550\n",
      "Epoch 72/100\n",
      "69/69 [==============================] - 0s 5ms/step - loss: 0.1141 - accuracy: 0.9564\n",
      "Epoch 73/100\n",
      "69/69 [==============================] - 0s 5ms/step - loss: 0.1047 - accuracy: 0.9564\n",
      "Epoch 74/100\n",
      "69/69 [==============================] - 0s 5ms/step - loss: 0.1154 - accuracy: 0.9555\n",
      "Epoch 75/100\n",
      "69/69 [==============================] - 0s 5ms/step - loss: 0.1075 - accuracy: 0.9614\n",
      "Epoch 76/100\n",
      "69/69 [==============================] - 0s 5ms/step - loss: 0.1235 - accuracy: 0.9536\n",
      "Epoch 77/100\n",
      "69/69 [==============================] - 0s 4ms/step - loss: 0.1218 - accuracy: 0.9514\n",
      "Epoch 78/100\n",
      "69/69 [==============================] - 0s 5ms/step - loss: 0.1047 - accuracy: 0.9586\n",
      "Epoch 79/100\n",
      "69/69 [==============================] - 0s 6ms/step - loss: 0.1007 - accuracy: 0.9577\n",
      "Epoch 80/100\n",
      "69/69 [==============================] - 0s 6ms/step - loss: 0.1058 - accuracy: 0.9591\n",
      "Epoch 81/100\n",
      "69/69 [==============================] - 0s 5ms/step - loss: 0.1183 - accuracy: 0.9559\n",
      "Epoch 82/100\n",
      "69/69 [==============================] - 0s 4ms/step - loss: 0.1096 - accuracy: 0.9514\n",
      "Epoch 83/100\n",
      "69/69 [==============================] - 0s 4ms/step - loss: 0.1144 - accuracy: 0.9568\n",
      "Epoch 84/100\n",
      "69/69 [==============================] - 0s 5ms/step - loss: 0.1182 - accuracy: 0.9541\n",
      "Epoch 85/100\n",
      "69/69 [==============================] - 0s 5ms/step - loss: 0.1177 - accuracy: 0.9545\n",
      "Epoch 86/100\n",
      "69/69 [==============================] - 0s 4ms/step - loss: 0.1032 - accuracy: 0.9577\n",
      "Epoch 87/100\n",
      "69/69 [==============================] - 0s 5ms/step - loss: 0.1012 - accuracy: 0.9609\n",
      "Epoch 88/100\n",
      "69/69 [==============================] - 0s 4ms/step - loss: 0.1244 - accuracy: 0.9559\n",
      "Epoch 89/100\n",
      "69/69 [==============================] - 0s 4ms/step - loss: 0.1122 - accuracy: 0.9550\n",
      "Epoch 90/100\n",
      "69/69 [==============================] - 0s 4ms/step - loss: 0.1131 - accuracy: 0.9532\n",
      "Epoch 91/100\n",
      "69/69 [==============================] - 0s 5ms/step - loss: 0.1031 - accuracy: 0.9600\n",
      "Epoch 92/100\n",
      "69/69 [==============================] - 0s 4ms/step - loss: 0.1068 - accuracy: 0.9586\n",
      "Epoch 93/100\n",
      "69/69 [==============================] - 0s 5ms/step - loss: 0.0996 - accuracy: 0.9591\n",
      "Epoch 94/100\n",
      "69/69 [==============================] - 0s 4ms/step - loss: 0.1043 - accuracy: 0.9605\n",
      "Epoch 95/100\n",
      "69/69 [==============================] - 0s 6ms/step - loss: 0.0982 - accuracy: 0.9641\n",
      "Epoch 96/100\n",
      "69/69 [==============================] - 0s 5ms/step - loss: 0.1108 - accuracy: 0.9564\n",
      "Epoch 97/100\n",
      "69/69 [==============================] - 0s 4ms/step - loss: 0.0961 - accuracy: 0.9618\n",
      "Epoch 98/100\n",
      "69/69 [==============================] - 0s 4ms/step - loss: 0.1376 - accuracy: 0.9464\n",
      "Epoch 99/100\n",
      "69/69 [==============================] - 0s 5ms/step - loss: 0.1197 - accuracy: 0.9564\n",
      "Epoch 100/100\n",
      "69/69 [==============================] - 0s 3ms/step - loss: 0.1377 - accuracy: 0.9523\n"
     ]
    },
    {
     "data": {
      "text/plain": [
       "<keras.callbacks.History at 0x1a2152c9fa0>"
      ]
     },
     "execution_count": 8,
     "metadata": {},
     "output_type": "execute_result"
    }
   ],
   "source": [
    "model = Sequential()\n",
    "model.add(Dense(1000, activation='relu', input_shape=(data.shape[1],)))\n",
    "model.add(Dropout(0.3))\n",
    "model.add(Dense(500, activation='tanh'))\n",
    "model.add(Dense(22, activation='softmax'))\n",
    "\n",
    "model.compile(optimizer='adam', loss='categorical_crossentropy', metrics=['accuracy'])\n",
    "\n",
    "model.fit(X_train,Y_train, epochs = 100)"
   ]
  },
  {
   "cell_type": "markdown",
   "id": "acb4cb15",
   "metadata": {
    "papermill": {
     "duration": 0.04914,
     "end_time": "2023-02-11T16:13:14.533723",
     "exception": false,
     "start_time": "2023-02-11T16:13:14.484583",
     "status": "completed"
    },
    "tags": []
   },
   "source": [
    "Great accuracy! Feel free to try test it and see how accurate "
   ]
  },
  {
   "attachments": {},
   "cell_type": "markdown",
   "id": "345d3a9e",
   "metadata": {},
   "source": [
    "## Make predictions :"
   ]
  },
  {
   "cell_type": "code",
   "execution_count": 9,
   "id": "fa8c9230",
   "metadata": {},
   "outputs": [
    {
     "name": "stdout",
     "output_type": "stream",
     "text": [
      "1/1 [==============================] - 0s 143ms/step\n"
     ]
    },
    {
     "data": {
      "text/plain": [
       "'mango'"
      ]
     },
     "execution_count": 9,
     "metadata": {},
     "output_type": "execute_result"
    }
   ],
   "source": [
    "classes[np.argmax(model.predict(X_train.iloc[198:199, :]))]"
   ]
  },
  {
   "cell_type": "code",
   "execution_count": 14,
   "id": "31189c9e",
   "metadata": {},
   "outputs": [],
   "source": [
    "# make prediction function\n",
    "def predict_crop(N, P, K, temperature, humidity, ph, rainfall):\n",
    "    input = np.array([[N, P, K, temperature, humidity, ph, rainfall]])\n",
    "    input_scaled = sc.transform(input)\n",
    "    # print(input_scaled)\n",
    "    print(classes[np.argmax(model.predict(input_scaled))])\n"
   ]
  },
  {
   "cell_type": "code",
   "execution_count": 18,
   "id": "553d6703",
   "metadata": {},
   "outputs": [
    {
     "name": "stdout",
     "output_type": "stream",
     "text": [
      "1/1 [==============================] - 0s 22ms/step\n",
      "jute\n"
     ]
    },
    {
     "name": "stderr",
     "output_type": "stream",
     "text": [
      "c:\\Users\\user\\anaconda3\\lib\\site-packages\\sklearn\\base.py:450: UserWarning: X does not have valid feature names, but StandardScaler was fitted with feature names\n",
      "  warnings.warn(\n"
     ]
    }
   ],
   "source": [
    "Nitrogen_Ratio = 69\n",
    "phosphorous_Ratio = 42\n",
    "potassium_Ratio = 24\n",
    "temperature = 20\n",
    "humidity = 80\n",
    "ph = 6.5\n",
    "rainfall = 200\n",
    "\n",
    "predict_crop(Netrogen_Ratio, phosphorous_Ratio, potassium_Ratio, temperature, humidity, ph, rainfall)"
   ]
  },
  {
   "cell_type": "markdown",
   "id": "4b48cc76",
   "metadata": {},
   "source": []
  }
 ],
 "metadata": {
  "kernelspec": {
   "display_name": "base",
   "language": "python",
   "name": "python3"
  },
  "language_info": {
   "codemirror_mode": {
    "name": "ipython",
    "version": 3
   },
   "file_extension": ".py",
   "mimetype": "text/x-python",
   "name": "python",
   "nbconvert_exporter": "python",
   "pygments_lexer": "ipython3",
   "version": "3.9.12"
  },
  "papermill": {
   "default_parameters": {},
   "duration": 60.142449,
   "end_time": "2023-02-11T16:13:17.410733",
   "environment_variables": {},
   "exception": null,
   "input_path": "__notebook__.ipynb",
   "output_path": "__notebook__.ipynb",
   "parameters": {},
   "start_time": "2023-02-11T16:12:17.268284",
   "version": "2.3.4"
  },
  "vscode": {
   "interpreter": {
    "hash": "a077222d77dfe082b8f1dd562ad70e458ac2ab76993a0b248ab0476e32e9e8dd"
   }
  }
 },
 "nbformat": 4,
 "nbformat_minor": 5
}
